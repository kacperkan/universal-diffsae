{
 "cells": [
  {
   "cell_type": "code",
   "execution_count": null,
   "metadata": {},
   "outputs": [],
   "source": [
    "import matplotlib.pyplot as plt\n",
    "import torch\n",
    "from diffusers import DiffusionPipeline, UNet2DConditionModel\n",
    "\n",
    "import src.hooked_model.scheduler\n",
    "from src.hooked_model.hooked_model import HookedDiffusionModel\n",
    "from src.hooked_model.hooks import AblateHook\n",
    "from src.hooked_model.utils import (\n",
    "    get_timesteps,\n",
    ")\n"
   ]
  },
  {
   "cell_type": "code",
   "execution_count": null,
   "metadata": {},
   "outputs": [],
   "source": [
    "model_name = \"sd-legacy/stable-diffusion-v1-5\"\n"
   ]
  },
  {
   "cell_type": "markdown",
   "metadata": {},
   "source": [
    "### How to register ablation hook and use it during the inference"
   ]
  },
  {
   "cell_type": "code",
   "execution_count": null,
   "metadata": {},
   "outputs": [],
   "source": [
    "pipe = DiffusionPipeline.from_pretrained(\n",
    "    model_name,\n",
    "    torch_dtype=torch.float16,\n",
    "    use_safetensors=True,\n",
    ").to(\"cuda\")\n"
   ]
  },
  {
   "cell_type": "code",
   "execution_count": null,
   "metadata": {},
   "outputs": [],
   "source": [
    "model = UNet2DConditionModel.from_pretrained(\n",
    "    model_name,\n",
    "    subfolder=\"unet\",\n",
    "    torch_dtype=torch.float16,\n",
    "    use_safetensors=True,\n",
    ").to(\"cuda\")\n"
   ]
  },
  {
   "cell_type": "code",
   "execution_count": null,
   "metadata": {},
   "outputs": [],
   "source": [
    "scheduler = src.hooked_model.scheduler.DDIMScheduler.from_config(pipe.scheduler.config)\n"
   ]
  },
  {
   "cell_type": "code",
   "execution_count": null,
   "metadata": {},
   "outputs": [],
   "source": [
    "hooked_model = HookedDiffusionModel(\n",
    "    model=model,\n",
    "    scheduler=scheduler,\n",
    "    encode_prompt=pipe.encode_prompt,\n",
    "    get_timesteps=get_timesteps,\n",
    "    vae=pipe.vae,\n",
    ")\n"
   ]
  },
  {
   "cell_type": "code",
   "execution_count": null,
   "metadata": {},
   "outputs": [],
   "source": [
    "import re\n",
    "\n",
    "hookpoints = []\n",
    "pattern = re.compile(r\".*\\.attentions\\.(\\d+)$\")\n",
    "for n, m in pipe.unet.named_modules():\n",
    "    match = pattern.match(n)\n",
    "    if match:\n",
    "        hookpoints.append(n)\n",
    "        print(n)\n"
   ]
  },
  {
   "cell_type": "code",
   "execution_count": null,
   "metadata": {},
   "outputs": [],
   "source": [
    "prompts = [\"A photo of an astronaut in Van Gogh style\" for _ in range(4)]"
   ]
  },
  {
   "cell_type": "code",
   "execution_count": null,
   "metadata": {},
   "outputs": [],
   "source": [
    "all_images = []\n",
    "\n",
    "for i, hookpoint in enumerate(hookpoints):\n",
    "    image = hooked_model.run_with_hooks(\n",
    "        {hookpoint: AblateHook()},\n",
    "        prompt=prompts,\n",
    "        num_inference_steps=50,\n",
    "        guidance_scale=7.5,\n",
    "        generator=torch.Generator(device=\"cuda\").manual_seed(1),\n",
    "    )\n",
    "\n",
    "    all_images.append(image)"
   ]
  },
  {
   "cell_type": "code",
   "execution_count": null,
   "metadata": {},
   "outputs": [],
   "source": [
    "def display_images(all_images, hookpoints, images_per_row=4):\n",
    "    rows = len(all_images)\n",
    "    fig, axes = plt.subplots(\n",
    "        rows, images_per_row, figsize=(images_per_row * 3, rows * 3)\n",
    "    )\n",
    "    fig.subplots_adjust(hspace=0.5, wspace=0.5)  # Adjust space between rows and columns\n",
    "\n",
    "    for i, row_images in enumerate(all_images[:rows]):  # Limit to the first `rows`\n",
    "        for j, image in enumerate(\n",
    "            row_images[:images_per_row]\n",
    "        ):  # Limit to `images_per_row`\n",
    "            ax = axes[i, j] if rows > 1 else axes[j]  # Handle single row case\n",
    "            ax.imshow(image)\n",
    "            ax.axis(\"off\")  # Turn off axes for a cleaner look\n",
    "            if j == 0:\n",
    "                ax.set_title(hookpoints[i])\n",
    "    plt.tight_layout()\n",
    "    plt.show()\n",
    "\n",
    "\n",
    "display_images(all_images, hookpoints)\n"
   ]
  }
 ],
 "metadata": {
  "kernelspec": {
   "display_name": "Python 3 (ipykernel)",
   "language": "python",
   "name": "python3"
  },
  "language_info": {
   "codemirror_mode": {
    "name": "ipython",
    "version": 3
   },
   "file_extension": ".py",
   "mimetype": "text/x-python",
   "name": "python",
   "nbconvert_exporter": "python",
   "pygments_lexer": "ipython3",
   "version": "3.10.15"
  }
 },
 "nbformat": 4,
 "nbformat_minor": 2
}
