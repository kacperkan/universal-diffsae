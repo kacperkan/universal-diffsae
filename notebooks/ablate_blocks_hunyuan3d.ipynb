{
 "cells": [
  {
   "cell_type": "code",
   "execution_count": null,
   "metadata": {},
   "outputs": [],
   "source": [
    "%load_ext autoreload\n",
    "%autoreload 2"
   ]
  },
  {
   "cell_type": "code",
   "execution_count": null,
   "metadata": {},
   "outputs": [],
   "source": [
    "import sys\n",
    "\n",
    "sys.path.append(\"..\")"
   ]
  },
  {
   "cell_type": "code",
   "execution_count": null,
   "metadata": {},
   "outputs": [],
   "source": [
    "import matplotlib.pyplot as plt\n",
    "import torch\n",
    "from hy3dgen.rembg import BackgroundRemover\n",
    "from hy3dgen.shapegen import Hunyuan3DDiTFlowMatchingPipeline\n",
    "from hy3dgen.texgen import Hunyuan3DPaintPipeline\n",
    "from hy3dgen.text2image import HunyuanDiTPipeline\n",
    "\n",
    "from hy3dgen.shapegen.postprocessors import (\n",
    "    FloaterRemover,\n",
    "    DegenerateFaceRemover,\n",
    "    FaceReducer,\n",
    "    mesh_normalize,\n",
    ")\n",
    "import src.hooked_model.scheduler\n",
    "from src.hooked_model.hooked_model import HookedDiffusionModel\n",
    "from src.hooked_model.hooks import AblateHook\n",
    "from src.hooked_model.utils import get_timesteps"
   ]
  },
  {
   "cell_type": "code",
   "execution_count": null,
   "metadata": {},
   "outputs": [],
   "source": [
    "text2image = HunyuanDiTPipeline(\n",
    "    model_path=\"Tencent-Hunyuan/HunyuanDiT-v1.2-Diffusers-Distilled\"\n",
    ")"
   ]
  },
  {
   "cell_type": "code",
   "execution_count": null,
   "metadata": {},
   "outputs": [],
   "source": [
    "prompt = \"A photo of an astronaut riding a horse on mars\""
   ]
  },
  {
   "cell_type": "markdown",
   "metadata": {},
   "source": [
    "### How to register ablation hook and use it during the inference"
   ]
  },
  {
   "cell_type": "code",
   "execution_count": null,
   "metadata": {},
   "outputs": [],
   "source": [
    "image = text2image(prompt)\n",
    "plt.imshow(image)\n"
   ]
  },
  {
   "cell_type": "code",
   "execution_count": null,
   "metadata": {},
   "outputs": [],
   "source": [
    "del text2image\n",
    "torch.cuda.empty_cache()\n",
    "\n",
    "rembg = BackgroundRemover()\n",
    "image = rembg(image)\n",
    "plt.imshow(image)"
   ]
  },
  {
   "cell_type": "code",
   "execution_count": null,
   "metadata": {},
   "outputs": [],
   "source": [
    "del rembg\n",
    "torch.cuda.empty_cache()\n",
    "\n",
    "\n",
    "pipeline = Hunyuan3DDiTFlowMatchingPipeline.from_pretrained(\n",
    "    \"tencent/Hunyuan3D-2\",\n",
    "    subfolder=\"hunyuan3d-dit-v2-0-turbo\",\n",
    "    use_safetensors=True,\n",
    ")\n",
    "pipeline.enable_flashvdm()"
   ]
  },
  {
   "cell_type": "code",
   "execution_count": null,
   "metadata": {},
   "outputs": [],
   "source": [
    "mesh = pipeline(\n",
    "    image,\n",
    "    num_inference_steps=5,\n",
    "    octree_resolution=380,\n",
    "    num_chunks=200000,\n",
    "    generator=torch.manual_seed(12345),\n",
    "    output_type=\"trimesh\",\n",
    ")[0]\n",
    "mesh\n"
   ]
  },
  {
   "cell_type": "code",
   "execution_count": null,
   "metadata": {},
   "outputs": [],
   "source": [
    "try:\n",
    "    del pipeline\n",
    "    torch.cuda.empty_cache()\n",
    "except NameError:\n",
    "    pass\n",
    "\n",
    "\n",
    "pipeline_texgen = Hunyuan3DPaintPipeline.from_pretrained(\"tencent/Hunyuan3D-2\")\n",
    "mesh = pipeline_texgen(mesh, image=image)"
   ]
  },
  {
   "cell_type": "code",
   "execution_count": null,
   "metadata": {},
   "outputs": [],
   "source": [
    "mesh.export(\"output.glb\")"
   ]
  },
  {
   "cell_type": "code",
   "execution_count": null,
   "metadata": {},
   "outputs": [],
   "source": [
    "postprocessing_steps = [\n",
    "    DegenerateFaceRemover(),\n",
    "    FloaterRemover(),\n",
    "    FaceReducer(),\n",
    "    mesh_normalize,\n",
    "]\n",
    "\n",
    "\n",
    "for step in postprocessing_steps:\n",
    "    mesh = step(mesh)\n",
    "mesh.export(\"output_processed.glb\")"
   ]
  },
  {
   "cell_type": "code",
   "execution_count": null,
   "metadata": {},
   "outputs": [],
   "source": [
    "mesh = pipeline_texgen(mesh, image=image)\n",
    "mesh.export(\"output_processed_textured.glb\")"
   ]
  },
  {
   "cell_type": "code",
   "execution_count": null,
   "metadata": {},
   "outputs": [],
   "source": [
    "# scheduler = src.hooked_model.scheduler.DDIMScheduler.from_config(\n",
    "#     pipe.scheduler.config\n",
    "# )\n"
   ]
  },
  {
   "cell_type": "code",
   "execution_count": null,
   "metadata": {},
   "outputs": [],
   "source": [
    "# hooked_model = HookedDiffusionModel(\n",
    "#     model=model,\n",
    "#     scheduler=scheduler,\n",
    "#     encode_prompt=pipe.encode_prompt,\n",
    "#     get_timesteps=get_timesteps,\n",
    "#     vae=pipe.vae,\n",
    "# )\n"
   ]
  },
  {
   "cell_type": "code",
   "execution_count": null,
   "metadata": {},
   "outputs": [],
   "source": [
    "# import re\n",
    "\n",
    "# hookpoints = []\n",
    "# pattern = re.compile(r\".*\\.attentions\\.(\\d+)$\")\n",
    "# for n, m in pipe.unet.named_modules():\n",
    "#     match = pattern.match(n)\n",
    "#     if match:\n",
    "#         hookpoints.append(n)\n",
    "#         print(n)\n"
   ]
  },
  {
   "cell_type": "code",
   "execution_count": null,
   "metadata": {},
   "outputs": [],
   "source": [
    "# prompts = [\"A photo of an astronaut in Van Gogh style\" for _ in range(4)]"
   ]
  },
  {
   "cell_type": "code",
   "execution_count": null,
   "metadata": {},
   "outputs": [],
   "source": [
    "# all_images = []\n",
    "\n",
    "# for i, hookpoint in enumerate(hookpoints):\n",
    "#     image = hooked_model.run_with_hooks(\n",
    "#         {hookpoint: AblateHook()},\n",
    "#         prompt=prompts,\n",
    "#         num_inference_steps=50,\n",
    "#         guidance_scale=7.5,\n",
    "#         generator=torch.Generator(device=\"cuda\").manual_seed(1),\n",
    "#     )\n",
    "\n",
    "#     all_images.append(image)"
   ]
  },
  {
   "cell_type": "code",
   "execution_count": null,
   "metadata": {},
   "outputs": [],
   "source": [
    "# def display_images(all_images, hookpoints, images_per_row=4):\n",
    "#     rows = len(all_images)\n",
    "#     fig, axes = plt.subplots(\n",
    "#         rows, images_per_row, figsize=(images_per_row * 3, rows * 3)\n",
    "#     )\n",
    "#     fig.subplots_adjust(\n",
    "#         hspace=0.5, wspace=0.5\n",
    "#     )  # Adjust space between rows and columns\n",
    "\n",
    "#     for i, row_images in enumerate(\n",
    "#         all_images[:rows]\n",
    "#     ):  # Limit to the first `rows`\n",
    "#         for j, image in enumerate(\n",
    "#             row_images[:images_per_row]\n",
    "#         ):  # Limit to `images_per_row`\n",
    "#             ax = axes[i, j] if rows > 1 else axes[j]  # Handle single row case\n",
    "#             ax.imshow(image)\n",
    "#             ax.axis(\"off\")  # Turn off axes for a cleaner look\n",
    "#             if j == 0:\n",
    "#                 ax.set_title(hookpoints[i])\n",
    "#     plt.tight_layout()\n",
    "#     plt.show()\n",
    "\n",
    "\n",
    "# display_images(all_images, hookpoints)\n"
   ]
  }
 ],
 "metadata": {
  "kernelspec": {
   "display_name": ".venv",
   "language": "python",
   "name": "python3"
  },
  "language_info": {
   "codemirror_mode": {
    "name": "ipython",
    "version": 3
   },
   "file_extension": ".py",
   "mimetype": "text/x-python",
   "name": "python",
   "nbconvert_exporter": "python",
   "pygments_lexer": "ipython3",
   "version": "3.12.8"
  }
 },
 "nbformat": 4,
 "nbformat_minor": 2
}
